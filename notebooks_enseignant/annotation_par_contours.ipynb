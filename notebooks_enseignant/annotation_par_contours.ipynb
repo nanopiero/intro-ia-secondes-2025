{
  "nbformat": 4,
  "nbformat_minor": 0,
  "metadata": {
    "colab": {
      "provenance": []
    },
    "kernelspec": {
      "name": "python3",
      "display_name": "Python 3"
    },
    "language_info": {
      "name": "python"
    }
  },
  "cells": [
    {
      "cell_type": "markdown",
      "source": [
        "# I) Starting point pour de l'annotation par contours"
      ],
      "metadata": {
        "id": "DvkSOtpFO5vm"
      }
    },
    {
      "cell_type": "code",
      "source": [
        "!pip install jupyter-dash==0.4.2 dash==2.11.1"
      ],
      "metadata": {
        "id": "M5fysWnFHkxY"
      },
      "execution_count": null,
      "outputs": []
    },
    {
      "cell_type": "code",
      "source": [
        "from jupyter_dash import JupyterDash\n",
        "from dash import dcc, html, Input, Output, State\n",
        "import plotly.graph_objs as go\n",
        "import requests\n",
        "from PIL import Image\n",
        "from io import BytesIO\n",
        "\n",
        "# Load image\n",
        "img_url = \"https://images.pexels.com/photos/1103970/pexels-photo-1103970.jpeg?auto=compress&cs=tinysrgb&w=640\"\n",
        "response = requests.get(img_url)\n",
        "image = Image.open(BytesIO(response.content))\n",
        "w, h = image.size\n",
        "\n",
        "# Create figure\n",
        "fig = go.Figure()\n",
        "fig.add_layout_image(dict(\n",
        "    source=image, xref=\"x\", yref=\"y\",\n",
        "    x=0, y=0, sizex=w, sizey=h,\n",
        "    sizing=\"stretch\", layer=\"below\"\n",
        "))\n",
        "fig.update_layout(\n",
        "    width=w, height=h,\n",
        "    dragmode=\"drawclosedpath\",\n",
        "    newshape=dict(line_color=\"red\"),\n",
        "    margin=dict(l=0, r=0, t=0, b=0),\n",
        "    xaxis=dict(range=[0, w], visible=False),\n",
        "    yaxis=dict(range=[h, 0], visible=False)\n",
        ")\n",
        "\n",
        "# Global storage\n",
        "last_polygon = []\n",
        "\n",
        "def parse_svg_path(path_str):\n",
        "    import re\n",
        "    # Extract all x,y pairs using regex\n",
        "    matches = re.findall(r'([ML])\\s*([\\d\\.\\-]+),([\\d\\.\\-]+)', path_str)\n",
        "    points = [(float(x), float(y)) for _, x, y in matches]\n",
        "    return points\n",
        "\n",
        "# Dash app\n",
        "app = JupyterDash(__name__)\n",
        "app.layout = html.Div([\n",
        "    dcc.Graph(\n",
        "        id='graph', figure=fig,\n",
        "        config={'modeBarButtonsToAdd': ['drawclosedpath', 'eraseshape']}\n",
        "    ),\n",
        "    html.Div(id='output')\n",
        "])\n",
        "\n",
        "@app.callback(\n",
        "    Output('output', 'children'),\n",
        "    Input('graph', 'relayoutData'),\n",
        "    State('graph', 'figure')\n",
        ")\n",
        "def display_shape_data(relayout_data, fig_state):\n",
        "    global last_polygon\n",
        "    if relayout_data and 'shapes' in relayout_data:\n",
        "        path = relayout_data['shapes'][-1].get('path', '')\n",
        "        last_polygon = parse_svg_path(path)\n",
        "        return html.Pre(f\"Polygon points:\\n{last_polygon}\")\n",
        "    return \"Draw a polygon on the image.\"\n",
        "\n",
        "app.run_server(mode='inline')\n"
      ],
      "metadata": {
        "id": "lic0KB3LHoGo"
      },
      "execution_count": null,
      "outputs": []
    },
    {
      "cell_type": "code",
      "source": [
        "print(last_polygon)"
      ],
      "metadata": {
        "id": "9N0F2nJzHrQa"
      },
      "execution_count": null,
      "outputs": []
    },
    {
      "cell_type": "code",
      "source": [
        "import matplotlib.pyplot as plt\n",
        "\n",
        "# Reload image\n",
        "img = Image.open(BytesIO(requests.get(img_url).content))\n",
        "\n",
        "# Plot image and polygon\n",
        "plt.imshow(img)\n",
        "if last_polygon:\n",
        "    x, y = zip(*last_polygon)\n",
        "    plt.plot(x + (x[0],), y + (y[0],), color='red', linewidth=2)  # Close the loop\n",
        "plt.title(\"Extracted Polygon\")\n",
        "plt.axis('off')\n",
        "plt.show()"
      ],
      "metadata": {
        "id": "yqCfPuHZHswf"
      },
      "execution_count": null,
      "outputs": []
    }
  ]
}