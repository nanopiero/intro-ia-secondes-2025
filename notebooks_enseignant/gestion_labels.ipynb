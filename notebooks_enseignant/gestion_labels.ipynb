{
  "nbformat": 4,
  "nbformat_minor": 0,
  "metadata": {
    "colab": {
      "provenance": []
    },
    "kernelspec": {
      "name": "python3",
      "display_name": "Python 3"
    },
    "language_info": {
      "name": "python"
    }
  },
  "cells": [
    {
      "cell_type": "markdown",
      "source": [
        "D'abord : se logguer à un compte gmail \\\n",
        "login : eleveenmi@gmail.com  (i=1,2,3,..) \\\n",
        "mwd : pwdeleveEnmi (i=1,2,3,..)"
      ],
      "metadata": {
        "id": "x4drUtTF40aM"
      }
    },
    {
      "cell_type": "markdown",
      "source": [
        "# I) Installations et imports"
      ],
      "metadata": {
        "id": "DvkSOtpFO5vm"
      }
    },
    {
      "cell_type": "code",
      "execution_count": 1,
      "metadata": {
        "id": "SY7VMiH2Qvkq",
        "outputId": "20aafdcb-b7ed-4dc4-f228-4d7464183b68",
        "colab": {
          "base_uri": "https://localhost:8080/"
        }
      },
      "outputs": [
        {
          "output_type": "stream",
          "name": "stdout",
          "text": [
            "Requirement already satisfied: gspread in /usr/local/lib/python3.11/dist-packages (6.2.1)\n",
            "Requirement already satisfied: gspread_dataframe in /usr/local/lib/python3.11/dist-packages (4.0.0)\n",
            "Requirement already satisfied: google-auth>=1.12.0 in /usr/local/lib/python3.11/dist-packages (from gspread) (2.38.0)\n",
            "Requirement already satisfied: google-auth-oauthlib>=0.4.1 in /usr/local/lib/python3.11/dist-packages (from gspread) (1.2.2)\n",
            "Requirement already satisfied: pandas>=0.24.0 in /usr/local/lib/python3.11/dist-packages (from gspread_dataframe) (2.2.2)\n",
            "Requirement already satisfied: six>=1.12.0 in /usr/local/lib/python3.11/dist-packages (from gspread_dataframe) (1.17.0)\n",
            "Requirement already satisfied: cachetools<6.0,>=2.0.0 in /usr/local/lib/python3.11/dist-packages (from google-auth>=1.12.0->gspread) (5.5.2)\n",
            "Requirement already satisfied: pyasn1-modules>=0.2.1 in /usr/local/lib/python3.11/dist-packages (from google-auth>=1.12.0->gspread) (0.4.2)\n",
            "Requirement already satisfied: rsa<5,>=3.1.4 in /usr/local/lib/python3.11/dist-packages (from google-auth>=1.12.0->gspread) (4.9.1)\n",
            "Requirement already satisfied: requests-oauthlib>=0.7.0 in /usr/local/lib/python3.11/dist-packages (from google-auth-oauthlib>=0.4.1->gspread) (2.0.0)\n",
            "Requirement already satisfied: numpy>=1.23.2 in /usr/local/lib/python3.11/dist-packages (from pandas>=0.24.0->gspread_dataframe) (2.0.2)\n",
            "Requirement already satisfied: python-dateutil>=2.8.2 in /usr/local/lib/python3.11/dist-packages (from pandas>=0.24.0->gspread_dataframe) (2.9.0.post0)\n",
            "Requirement already satisfied: pytz>=2020.1 in /usr/local/lib/python3.11/dist-packages (from pandas>=0.24.0->gspread_dataframe) (2025.2)\n",
            "Requirement already satisfied: tzdata>=2022.7 in /usr/local/lib/python3.11/dist-packages (from pandas>=0.24.0->gspread_dataframe) (2025.2)\n",
            "Requirement already satisfied: pyasn1<0.7.0,>=0.6.1 in /usr/local/lib/python3.11/dist-packages (from pyasn1-modules>=0.2.1->google-auth>=1.12.0->gspread) (0.6.1)\n",
            "Requirement already satisfied: oauthlib>=3.0.0 in /usr/local/lib/python3.11/dist-packages (from requests-oauthlib>=0.7.0->google-auth-oauthlib>=0.4.1->gspread) (3.2.2)\n",
            "Requirement already satisfied: requests>=2.0.0 in /usr/local/lib/python3.11/dist-packages (from requests-oauthlib>=0.7.0->google-auth-oauthlib>=0.4.1->gspread) (2.32.3)\n",
            "Requirement already satisfied: charset-normalizer<4,>=2 in /usr/local/lib/python3.11/dist-packages (from requests>=2.0.0->requests-oauthlib>=0.7.0->google-auth-oauthlib>=0.4.1->gspread) (3.4.2)\n",
            "Requirement already satisfied: idna<4,>=2.5 in /usr/local/lib/python3.11/dist-packages (from requests>=2.0.0->requests-oauthlib>=0.7.0->google-auth-oauthlib>=0.4.1->gspread) (3.10)\n",
            "Requirement already satisfied: urllib3<3,>=1.21.1 in /usr/local/lib/python3.11/dist-packages (from requests>=2.0.0->requests-oauthlib>=0.7.0->google-auth-oauthlib>=0.4.1->gspread) (2.4.0)\n",
            "Requirement already satisfied: certifi>=2017.4.17 in /usr/local/lib/python3.11/dist-packages (from requests>=2.0.0->requests-oauthlib>=0.7.0->google-auth-oauthlib>=0.4.1->gspread) (2025.6.15)\n"
          ]
        }
      ],
      "source": [
        "# Google sheet\n",
        "!pip install --upgrade gspread gspread_dataframe"
      ]
    },
    {
      "cell_type": "code",
      "source": [
        "# Imports\n",
        "from google.colab import auth\n",
        "from google.auth import default\n",
        "import gspread\n",
        "from google.colab import drive\n",
        "from google.colab import output\n",
        "import os\n",
        "import re\n",
        "import shutil\n",
        "import tarfile\n",
        "from pathlib import Path\n",
        "import random\n",
        "from IPython.display import display, clear_output, Javascript\n",
        "import ipywidgets as widgets\n",
        "from base64 import b64encode\n",
        "from datetime import datetime\n",
        "import pandas as pd\n",
        "from gspread_dataframe import get_as_dataframe, set_with_dataframe\n",
        "import re\n",
        "# Spécifique au TP :\n",
        "! git clone https://github.com/nanopiero/intro-ia-secondes-2025.git\n",
        "! cp intro-ia-secondes-2025/utils/annotation.py .\n",
        "! cp intro-ia-secondes-2025/utils/configuration.py .\n",
        "# from google.colab import files\n",
        "# uploaded = files.upload()\n",
        "from importlib import reload\n",
        "import configuration as cf\n",
        "import annotation as an\n",
        "# reload(cf)\n",
        "# reload(an)"
      ],
      "metadata": {
        "id": "GMfMBmwu4uec",
        "outputId": "39d2499b-ac5f-4a57-998a-0944b629aa68",
        "colab": {
          "base_uri": "https://localhost:8080/"
        }
      },
      "execution_count": 10,
      "outputs": [
        {
          "output_type": "stream",
          "name": "stdout",
          "text": [
            "fatal: destination path 'intro-ia-secondes-2025' already exists and is not an empty directory.\n"
          ]
        },
        {
          "output_type": "execute_result",
          "data": {
            "text/plain": [
              "<module 'annotation' from '/content/annotation.py'>"
            ]
          },
          "metadata": {},
          "execution_count": 10
        }
      ]
    },
    {
      "cell_type": "markdown",
      "source": [
        "# II) Authentification"
      ],
      "metadata": {
        "id": "ngJOgPdrPC8Q"
      }
    },
    {
      "cell_type": "code",
      "source": [
        "cf.group2sheets"
      ],
      "metadata": {
        "id": "VXeXTTV1pGXo",
        "outputId": "a9eb1cf3-c337-4d61-df1b-9bac6e6743bb",
        "colab": {
          "base_uri": "https://localhost:8080/"
        }
      },
      "execution_count": 7,
      "outputs": [
        {
          "output_type": "execute_result",
          "data": {
            "text/plain": [
              "{0: 'https://docs.google.com/spreadsheets/d/1sjvrkLMEY0YXAyXU9Ad8i49J29jCmKkJb85T2pZ2CS8',\n",
              " 1: 'https://docs.google.com/spreadsheets/d/1sjvrkLMEY0YXAyXU9Ad8i49J29jCmKkJb85T2pZ2CS8',\n",
              " 2: 'https://docs.google.com/spreadsheets/d/1Npi7H-Y-P60QBODOL8Q5ArQHr5dIn9mOuYv67LLHcNE',\n",
              " 3: 'https://docs.google.com/spreadsheets/d/1I_ZwJrPt1AO_tQJSX2JBreFFhAlsF7kITH9p_1gDhks',\n",
              " 4: 'https://docs.google.com/spreadsheets/d/1e1LnjbLKoZ_JxYfGLu1nFIQWyioNt4AV_Y9C1CUqiWI',\n",
              " 5: 'https://docs.google.com/spreadsheets/d/1unaaeXdGVdC_1JMMVSBUgxc6vdrJzE16lTiP6OBEl04',\n",
              " 6: 'https://docs.google.com/spreadsheets/d/1odXOBEiNbFQ48NALzTEmCs7LDlBHWARdsivL8rO47fw',\n",
              " 7: 'https://docs.google.com/spreadsheets/d/1v7gJmdK1AqMelBRaksIcrIN_mDjobH8wxMxfLbiKlS8',\n",
              " 8: 'https://docs.google.com/spreadsheets/d/1chlVgydwqpQYq44ynEWX_I0QVtWsUaYfwqVSptTD-dA',\n",
              " 9: 'https://docs.google.com/spreadsheets/d/1x295asse_gh31-EzXQYFUSIkpbLe-hvYwWAxyr1c_ag',\n",
              " 10: 'https://docs.google.com/spreadsheets/d/1QKZuVjBd1SOmAZvg1zA4vnzLnh8DXVzDouwA941WB2I',\n",
              " 11: 'https://docs.google.com/spreadsheets/d/1oNurDfrYvCr0hnawUz432Dyh8Mkunk820GiDoa1Sz_E',\n",
              " 12: 'https://docs.google.com/spreadsheets/d/1EgmnmcX8jMXZmz6s_-oW473FnuT3HgPjlSnqCcJTrP4',\n",
              " 13: 'https://docs.google.com/spreadsheets/d/1KT4RXpX3FkR2APlGXhD54euEpPWHbFZKrxoWdFzeqog'}"
            ]
          },
          "metadata": {},
          "execution_count": 7
        }
      ]
    },
    {
      "cell_type": "code",
      "source": [
        "# pour colab :\n",
        "auth.authenticate_user()\n",
        "# pour accéder aux fichiers google (google sheet)\n",
        "creds, _ = default()  # or use service account\n",
        "gc = gspread.authorize(creds)\n",
        "\n",
        "# montage du drive :\n",
        "drive.mount('/content/drive')"
      ],
      "metadata": {
        "id": "Z6QHIJjpQwYh",
        "colab": {
          "base_uri": "https://localhost:8080/"
        },
        "outputId": "7732f031-5578-46ff-964a-a904657fdc79"
      },
      "execution_count": 3,
      "outputs": [
        {
          "output_type": "stream",
          "name": "stdout",
          "text": [
            "Mounted at /content/drive\n"
          ]
        }
      ]
    },
    {
      "cell_type": "markdown",
      "source": [
        "# III) Dashboard"
      ],
      "metadata": {
        "id": "YfKdwUNe_Zbq"
      }
    },
    {
      "cell_type": "markdown",
      "source": [
        "I've a dictionary of google sheets url on which I may use get_as_dataframe, set_with_dataframe. The keys are groups of annotators.\n",
        "eg :\n",
        "\n",
        "{0: 'https://docs.google.com/spreadsheets/d/1sjvrkLMEY0YXAyXU9Ad8i49J29jCmKkJb85T2pZ2CS8',\n",
        " 1: 'https://docs.google.com/spreadsheets/d/1sjvrkLMEY0YXAyXU9Ad8i49J29jCmKkJb85T2pZ2CS8',\n",
        " 2: 'https://docs.google.com/spreadsheets/d/1Npi7H-Y-P60QBODOL8Q5ArQHr5dIn9mOuYv67LLHcNE',\n",
        "\n",
        " In these google sheets, there are data like these:\n",
        "\n",
        "  \n",
        "Image,Classe,Hauteur,Nebul\n",
        "O_202503080900.jpg,30,70,4\n",
        "S_202503010900.jpg,4,,\n",
        "S_202503011200.jpg,3,,\n",
        "S_202503011500.jpg,3,,\n",
        "S_202503011800.jpg,20,,1\n",
        "S_202503020900.jpg,81,,8\n",
        "S_202503021200.jpg,75,,\n",
        "S_202503021500.jpg,75,,5\n",
        "\n",
        "Please focus on the column Classe (don't take Hauteur and Nebul into account)\n",
        "\n",
        "I want a function that takes as arguments:\n",
        "-  a list of groups of ids\n",
        "-  the dict of sheets url\n",
        "and launch a widget with a large html table that will serve as a dashboard.\n",
        "On that dashboard:\n",
        "- list groups in the first row (groupe id1 id2 id3 etc) in the natural order (write groupe like in french)\n",
        "- count the number of entries in the second row and fill in red the case where it is the max of counts, in blue where it is min of counts. head of the line will be \"Labels\"\n",
        "- count the number of observed rare Class (Classe in [71, 72, 73, 41, 42, 43, 23, 44, 100]) and list them in a line filled in pale pink. Head of the line \"Classes rares\".\n",
        "- add a last column \"total\", and give the total counts for each lines.\n"
      ],
      "metadata": {
        "id": "tDXu9CQPp7CI"
      }
    },
    {
      "cell_type": "markdown",
      "source": [
        "# III) Configuration"
      ],
      "metadata": {
        "id": "GgVAnYGo-bik"
      }
    },
    {
      "cell_type": "code",
      "source": [
        "group=13\n",
        "direction, starthour = group2direction_and_starthour[group]\n",
        "image_dir = f'{group}_{direction}_{starthour}'\n",
        "tar_and_zipped_image_dir = image_dir + '.tar.gz'\n",
        "starting_image_idx = 3"
      ],
      "metadata": {
        "id": "9tUFo2na9uxd"
      },
      "execution_count": null,
      "outputs": []
    },
    {
      "cell_type": "markdown",
      "source": [
        "# IV) Récupération des images :"
      ],
      "metadata": {
        "id": "Sw-CN1lqPL7W"
      }
    },
    {
      "cell_type": "code",
      "source": [
        "# 1. Define the source path (change SHARED_PATH accordingly)\n",
        "shared_path = '/content/drive/MyDrive/' + tar_and_zipped_image_dir\n",
        "dest_path = Path.home() / tar_and_zipped_image_dir\n",
        "\n",
        "# Copy the file to your home directory\n",
        "shutil.copy(shared_path, dest_path)\n",
        "\n",
        "# 2. Extract and delete the archive\n",
        "with tarfile.open(dest_path, 'r:gz') as tar:\n",
        "    tar.extractall(path='.')  # extract to current working directory\n",
        "\n",
        "# 3. Remove the tar.gz file\n",
        "dest_path.unlink()"
      ],
      "metadata": {
        "id": "hSthxBV0Q9NU"
      },
      "execution_count": null,
      "outputs": []
    },
    {
      "cell_type": "markdown",
      "source": [
        "# V) Récupération d'une partie des labels :"
      ],
      "metadata": {
        "id": "eQ6hjTLlQMR1"
      }
    },
    {
      "cell_type": "code",
      "source": [
        "# Open by ID or URL\n",
        "sheet_url = group2sheets[group]\n",
        "sh = gc.open_by_url(sheet_url)\n",
        "worksheet = sh.sheet1"
      ],
      "metadata": {
        "id": "Ysarx7mWRyha"
      },
      "execution_count": null,
      "outputs": []
    }
  ]
}