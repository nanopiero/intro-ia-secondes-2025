{
  "nbformat": 4,
  "nbformat_minor": 0,
  "metadata": {
    "colab": {
      "provenance": []
    },
    "kernelspec": {
      "name": "python3",
      "display_name": "Python 3"
    },
    "language_info": {
      "name": "python"
    }
  },
  "cells": [
    {
      "cell_type": "markdown",
      "source": [
        "D'abord : se logguer à un compte gmail \\\n",
        "login : eleveenmi@gmail.com  (i=1,2,3,..) \\\n",
        "mwd : pwdeleveEnmi (i=1,2,3,..)"
      ],
      "metadata": {
        "id": "x4drUtTF40aM"
      }
    },
    {
      "cell_type": "markdown",
      "source": [
        "# I) Installations et imports"
      ],
      "metadata": {
        "id": "DvkSOtpFO5vm"
      }
    },
    {
      "cell_type": "code",
      "execution_count": 1,
      "metadata": {
        "id": "SY7VMiH2Qvkq",
        "outputId": "7f6f02f4-18a7-45ad-de9e-c4fdefd0e271",
        "colab": {
          "base_uri": "https://localhost:8080/"
        }
      },
      "outputs": [
        {
          "output_type": "stream",
          "name": "stdout",
          "text": [
            "Requirement already satisfied: gspread in /usr/local/lib/python3.11/dist-packages (6.2.1)\n",
            "Requirement already satisfied: gspread_dataframe in /usr/local/lib/python3.11/dist-packages (4.0.0)\n",
            "Requirement already satisfied: google-auth>=1.12.0 in /usr/local/lib/python3.11/dist-packages (from gspread) (2.38.0)\n",
            "Requirement already satisfied: google-auth-oauthlib>=0.4.1 in /usr/local/lib/python3.11/dist-packages (from gspread) (1.2.2)\n",
            "Requirement already satisfied: pandas>=0.24.0 in /usr/local/lib/python3.11/dist-packages (from gspread_dataframe) (2.2.2)\n",
            "Requirement already satisfied: six>=1.12.0 in /usr/local/lib/python3.11/dist-packages (from gspread_dataframe) (1.17.0)\n",
            "Requirement already satisfied: cachetools<6.0,>=2.0.0 in /usr/local/lib/python3.11/dist-packages (from google-auth>=1.12.0->gspread) (5.5.2)\n",
            "Requirement already satisfied: pyasn1-modules>=0.2.1 in /usr/local/lib/python3.11/dist-packages (from google-auth>=1.12.0->gspread) (0.4.2)\n",
            "Requirement already satisfied: rsa<5,>=3.1.4 in /usr/local/lib/python3.11/dist-packages (from google-auth>=1.12.0->gspread) (4.9.1)\n",
            "Requirement already satisfied: requests-oauthlib>=0.7.0 in /usr/local/lib/python3.11/dist-packages (from google-auth-oauthlib>=0.4.1->gspread) (2.0.0)\n",
            "Requirement already satisfied: numpy>=1.23.2 in /usr/local/lib/python3.11/dist-packages (from pandas>=0.24.0->gspread_dataframe) (2.0.2)\n",
            "Requirement already satisfied: python-dateutil>=2.8.2 in /usr/local/lib/python3.11/dist-packages (from pandas>=0.24.0->gspread_dataframe) (2.9.0.post0)\n",
            "Requirement already satisfied: pytz>=2020.1 in /usr/local/lib/python3.11/dist-packages (from pandas>=0.24.0->gspread_dataframe) (2025.2)\n",
            "Requirement already satisfied: tzdata>=2022.7 in /usr/local/lib/python3.11/dist-packages (from pandas>=0.24.0->gspread_dataframe) (2025.2)\n",
            "Requirement already satisfied: pyasn1<0.7.0,>=0.6.1 in /usr/local/lib/python3.11/dist-packages (from pyasn1-modules>=0.2.1->google-auth>=1.12.0->gspread) (0.6.1)\n",
            "Requirement already satisfied: oauthlib>=3.0.0 in /usr/local/lib/python3.11/dist-packages (from requests-oauthlib>=0.7.0->google-auth-oauthlib>=0.4.1->gspread) (3.2.2)\n",
            "Requirement already satisfied: requests>=2.0.0 in /usr/local/lib/python3.11/dist-packages (from requests-oauthlib>=0.7.0->google-auth-oauthlib>=0.4.1->gspread) (2.32.3)\n",
            "Requirement already satisfied: charset-normalizer<4,>=2 in /usr/local/lib/python3.11/dist-packages (from requests>=2.0.0->requests-oauthlib>=0.7.0->google-auth-oauthlib>=0.4.1->gspread) (3.4.2)\n",
            "Requirement already satisfied: idna<4,>=2.5 in /usr/local/lib/python3.11/dist-packages (from requests>=2.0.0->requests-oauthlib>=0.7.0->google-auth-oauthlib>=0.4.1->gspread) (3.10)\n",
            "Requirement already satisfied: urllib3<3,>=1.21.1 in /usr/local/lib/python3.11/dist-packages (from requests>=2.0.0->requests-oauthlib>=0.7.0->google-auth-oauthlib>=0.4.1->gspread) (2.4.0)\n",
            "Requirement already satisfied: certifi>=2017.4.17 in /usr/local/lib/python3.11/dist-packages (from requests>=2.0.0->requests-oauthlib>=0.7.0->google-auth-oauthlib>=0.4.1->gspread) (2025.6.15)\n"
          ]
        }
      ],
      "source": [
        "# Google sheet\n",
        "!pip install --upgrade gspread gspread_dataframe"
      ]
    },
    {
      "cell_type": "code",
      "source": [
        "# Imports\n",
        "from google.colab import auth\n",
        "from google.auth import default\n",
        "import gspread\n",
        "from google.colab import drive\n",
        "from google.colab import output\n",
        "import os\n",
        "import re\n",
        "import shutil\n",
        "import tarfile\n",
        "from pathlib import Path\n",
        "import random\n",
        "from IPython.display import display, clear_output, Javascript\n",
        "import ipywidgets as widgets\n",
        "from base64 import b64encode\n",
        "from datetime import datetime\n",
        "import pandas as pd\n",
        "from gspread_dataframe import get_as_dataframe, set_with_dataframe\n",
        "import re\n"
      ],
      "metadata": {
        "id": "GMfMBmwu4uec"
      },
      "execution_count": 3,
      "outputs": []
    },
    {
      "cell_type": "markdown",
      "source": [
        "# II) Authentification"
      ],
      "metadata": {
        "id": "ngJOgPdrPC8Q"
      }
    },
    {
      "cell_type": "code",
      "source": [
        "# pour colab :\n",
        "auth.authenticate_user()\n",
        "# pour accéder aux fichiers google (google sheet)\n",
        "creds, _ = default()  # or use service account\n",
        "gc = gspread.authorize(creds)\n",
        "\n",
        "# montage du drive :\n",
        "drive.mount('/content/drive')"
      ],
      "metadata": {
        "id": "Z6QHIJjpQwYh",
        "colab": {
          "base_uri": "https://localhost:8080/",
          "height": 215
        },
        "outputId": "8fcd4821-c9e0-4d03-a7e9-9e9d95013634"
      },
      "execution_count": 2,
      "outputs": [
        {
          "output_type": "error",
          "ename": "NameError",
          "evalue": "name 'auth' is not defined",
          "traceback": [
            "\u001b[0;31m---------------------------------------------------------------------------\u001b[0m",
            "\u001b[0;31mNameError\u001b[0m                                 Traceback (most recent call last)",
            "\u001b[0;32m/tmp/ipython-input-2-3718215534.py\u001b[0m in \u001b[0;36m<cell line: 0>\u001b[0;34m()\u001b[0m\n\u001b[1;32m      1\u001b[0m \u001b[0;31m# pour colab :\u001b[0m\u001b[0;34m\u001b[0m\u001b[0;34m\u001b[0m\u001b[0m\n\u001b[0;32m----> 2\u001b[0;31m \u001b[0mauth\u001b[0m\u001b[0;34m.\u001b[0m\u001b[0mauthenticate_user\u001b[0m\u001b[0;34m(\u001b[0m\u001b[0;34m)\u001b[0m\u001b[0;34m\u001b[0m\u001b[0;34m\u001b[0m\u001b[0m\n\u001b[0m\u001b[1;32m      3\u001b[0m \u001b[0;31m# pour accéder aux fichiers google (google sheet)\u001b[0m\u001b[0;34m\u001b[0m\u001b[0;34m\u001b[0m\u001b[0m\n\u001b[1;32m      4\u001b[0m \u001b[0mcreds\u001b[0m\u001b[0;34m,\u001b[0m \u001b[0m_\u001b[0m \u001b[0;34m=\u001b[0m \u001b[0mdefault\u001b[0m\u001b[0;34m(\u001b[0m\u001b[0;34m)\u001b[0m  \u001b[0;31m# or use service account\u001b[0m\u001b[0;34m\u001b[0m\u001b[0;34m\u001b[0m\u001b[0m\n\u001b[1;32m      5\u001b[0m \u001b[0mgc\u001b[0m \u001b[0;34m=\u001b[0m \u001b[0mgspread\u001b[0m\u001b[0;34m.\u001b[0m\u001b[0mauthorize\u001b[0m\u001b[0;34m(\u001b[0m\u001b[0mcreds\u001b[0m\u001b[0;34m)\u001b[0m\u001b[0;34m\u001b[0m\u001b[0;34m\u001b[0m\u001b[0m\n",
            "\u001b[0;31mNameError\u001b[0m: name 'auth' is not defined"
          ]
        }
      ]
    },
    {
      "cell_type": "markdown",
      "source": [
        "# III) Configuration"
      ],
      "metadata": {
        "id": "GgVAnYGo-bik"
      }
    },
    {
      "cell_type": "code",
      "source": [
        "group=13\n",
        "direction, starthour = group2direction_and_starthour[group]\n",
        "image_dir = f'{group}_{direction}_{starthour}'\n",
        "tar_and_zipped_image_dir = image_dir + '.tar.gz'\n",
        "starting_image_idx = 3"
      ],
      "metadata": {
        "id": "9tUFo2na9uxd"
      },
      "execution_count": null,
      "outputs": []
    },
    {
      "cell_type": "markdown",
      "source": [
        "# IV) Récupération des images :"
      ],
      "metadata": {
        "id": "Sw-CN1lqPL7W"
      }
    },
    {
      "cell_type": "code",
      "source": [
        "# 1. Define the source path (change SHARED_PATH accordingly)\n",
        "shared_path = '/content/drive/MyDrive/' + tar_and_zipped_image_dir\n",
        "dest_path = Path.home() / tar_and_zipped_image_dir\n",
        "\n",
        "# Copy the file to your home directory\n",
        "shutil.copy(shared_path, dest_path)\n",
        "\n",
        "# 2. Extract and delete the archive\n",
        "with tarfile.open(dest_path, 'r:gz') as tar:\n",
        "    tar.extractall(path='.')  # extract to current working directory\n",
        "\n",
        "# 3. Remove the tar.gz file\n",
        "dest_path.unlink()"
      ],
      "metadata": {
        "id": "hSthxBV0Q9NU"
      },
      "execution_count": null,
      "outputs": []
    },
    {
      "cell_type": "markdown",
      "source": [
        "# V) Récupération d'une partie des labels :"
      ],
      "metadata": {
        "id": "eQ6hjTLlQMR1"
      }
    },
    {
      "cell_type": "code",
      "source": [
        "# Open by ID or URL\n",
        "sheet_url = group2sheets[group]\n",
        "sh = gc.open_by_url(sheet_url)\n",
        "worksheet = sh.sheet1"
      ],
      "metadata": {
        "id": "Ysarx7mWRyha"
      },
      "execution_count": null,
      "outputs": []
    },
    {
      "cell_type": "markdown",
      "source": [
        "# VI) Annotation"
      ],
      "metadata": {
        "id": "NfKAfxxtRDHV"
      }
    },
    {
      "cell_type": "code",
      "source": [
        "# get dict_labels\n",
        "dict_labels = build_initial_dict_from_images(image_dir)\n",
        "\n",
        "# Complete it with data from google worksheet\n",
        "complete_dict_from_worksheet(worksheet, dict_labels)\n",
        "\n",
        "# get all subfolders :\n",
        "# Root folder\n",
        "root_folder = image_dir\n",
        "# Collect subfolders\n",
        "subfolders = sorted([\n",
        "    os.path.join(root_folder, d) for d in os.listdir(root_folder)\n",
        "    if os.path.isdir(os.path.join(root_folder, d))\n",
        "])\n",
        "\n",
        "# define button color dict :\n",
        "color_map = assign_colors(dict_labels, direction)\n",
        "\n",
        "# Inject once (put this near the beginning of your notebook)\n",
        "display(widgets.HTML(\"\"\"\n",
        "<style>\n",
        ".widelabel input {\n",
        "    width: 100% !important;\n",
        "    font-size: 16px;\n",
        "    padding: 6px;\n",
        "    display: block;\n",
        "    margin: 0 auto;\n",
        "}\n",
        "</style>\n",
        "\"\"\"))\n",
        "\n",
        "# Extract timestamp from folder names (just first token)\n",
        "timestamps = [os.path.basename(f).split('_')[0] for f in subfolders]\n",
        "\n",
        "# Assign a unique color to each timestamp (simple hash function)\n",
        "# color_map = {}\n",
        "# for ts in set(timestamps):\n",
        "#     random.seed(ts)\n",
        "#     color_map[ts] = f\"#{random.randint(50, 255):02x}{random.randint(50, 255):02x}{random.randint(50, 255):02x}\"\n",
        "\n",
        "# State\n",
        "current_subfolder_index = None\n",
        "current_image_index = starting_image_idx\n",
        "\n",
        "# Widgets\n",
        "button_box = widgets.VBox()\n",
        "image_html = widgets.HTML()\n",
        "meta_label = widgets.Label()\n",
        "meta_label2 = widgets.Label()\n",
        "meta_label3 = widgets.Label()\n",
        "status_label = widgets.Label()\n",
        "result_output = widgets.Output()\n",
        "\n",
        "\n",
        "label_input = widgets.Text(\n",
        "    placeholder='Write a label & press Enter',\n",
        "    layout=widgets.Layout(height='40px', display='none')  # no width here!\n",
        ")\n",
        "label_input.add_class(\"widelabel\")\n",
        "\n",
        "\n",
        "# label_input.add_class(\"label-textbox\")\n",
        "label_input.add_class(\"large-placeholder\")\n",
        "# Container for image view\n",
        "viewer_box = widgets.VBox()\n",
        "layout_box = widgets.VBox()  # master view that swaps button list and image viewer\n",
        "\n",
        "# Close button (top-right)\n",
        "close_button = widgets.Button(\n",
        "    description='Fermeture pop-up',\n",
        "    layout=widgets.Layout(width='20%', height='30px', align_self='flex-end'),\n",
        "    style={\n",
        "        'button_color': '#444444',\n",
        "        'font_weight': 'bold',\n",
        "        'text_color': 'white'\n",
        "    }\n",
        ")\n",
        "\n",
        "\n",
        "# === BUTTON LIST INITIALIZATION ===\n",
        "folder_buttons = []\n",
        "\n",
        "for idx, folder in enumerate(subfolders):\n",
        "    folder_name = os.path.basename(folder)\n",
        "    ts_raw = folder_name.split('_')[0]\n",
        "\n",
        "    # Format the timestamp\n",
        "    try:\n",
        "        dt = datetime.strptime(ts_raw, \"%Y%m%d%H%M\")\n",
        "        readable_dt = dt.strftime(\"%d/%m/%Y %H:%M\")\n",
        "    except Exception:\n",
        "        readable_dt = \"??/??/???? ??:??\"\n",
        "\n",
        "    # Get third image filename\n",
        "    try:\n",
        "        image_files = sorted([\n",
        "            f for f in os.listdir(folder)\n",
        "            # if f.lower().endswith(('.jpg', '.jpeg', '.png'))\n",
        "        ])\n",
        "        third_image_name = image_files[starting_image_idx] if len(image_files) > starting_image_idx else None\n",
        "    except Exception:\n",
        "        third_image_name = None\n",
        "\n",
        "    # Get interpreted label\n",
        "    # if third_image_name:\n",
        "    # try:\n",
        "    label_text = get_interpreted_labels(dict_labels, third_image_name, correspondance)\n",
        "    # except Exception as e:\n",
        "    #     label_text = f\"Error: {e}\"\n",
        "    # else:\n",
        "    #     label_text = \"(No third image)\"\n",
        "\n",
        "    # Build display label\n",
        "    full_label = f\"{readable_dt}\\n{label_text}\"\n",
        "\n",
        "    # Create button\n",
        "    btn = widgets.Button(\n",
        "        description=full_label,\n",
        "        layout=widgets.Layout(width='60%', height='23px'),\n",
        "        style={\n",
        "            'button_color': color_map.get(ts_raw, '#dddddd'),\n",
        "            'font_weight': 'bold',\n",
        "            'text_color': 'black'\n",
        "        }\n",
        "    )\n",
        "    btn._idx = idx  # attach index for handler\n",
        "\n",
        "    def on_click(b):\n",
        "        show_image_view(b._idx)\n",
        "\n",
        "    btn.on_click(on_click)\n",
        "    folder_buttons.append(btn)\n",
        "\n",
        "\n",
        "# button_box.children = [widgets.HBox(folder_buttons[i:i+5]) for i in range(0, len(folder_buttons), 5)]\n",
        "button_box.children = [widgets.VBox(folder_buttons)]\n",
        "\n",
        "# scrollable_vbox = widgets.VBox(folder_buttons)\n",
        "\n",
        "# scrollable_container = widgets.Box(\n",
        "#     [scrollable_vbox],\n",
        "#     layout=widgets.Layout(\n",
        "#         max_height='500px',      # set vertical limit\n",
        "#         overflow='auto',         # enable scrolling\n",
        "#         border='1px solid lightgray',\n",
        "#         padding='5px',\n",
        "#         width='100%'             # optional: full width\n",
        "#     )\n",
        "# )\n",
        "\n",
        "# button_box.children = [scrollable_container]\n",
        "\n",
        "# === VIEWER BOX LAYOUT ===\n",
        "label_input.on_submit(on_label_submit)\n",
        "close_button.on_click(return_to_buttons)\n",
        "viewer_box.children = [meta_label, meta_label2, meta_label3,  image_html, status_label, label_input, result_output, widgets.HBox([close_button])]\n",
        "\n",
        "# === CALLBACK REGISTRATION ===\n",
        "output.register_callback('notebook.on_left', on_left)\n",
        "output.register_callback('notebook.on_right', on_right)\n",
        "output.register_callback('notebook.on_up', on_up)\n",
        "output.register_callback('notebook.on_down', on_down)\n",
        "\n",
        "# === DISPLAY INITIAL VIEW ===\n",
        "layout_box.children = [button_box]\n",
        "display(layout_box)"
      ],
      "metadata": {
        "id": "oB_e0civEYLL"
      },
      "execution_count": null,
      "outputs": []
    },
    {
      "cell_type": "code",
      "source": [],
      "metadata": {
        "id": "ANdQ2zEmxn6u"
      },
      "execution_count": null,
      "outputs": []
    },
    {
      "cell_type": "markdown",
      "source": [
        "# A) Récupération des premiers labels"
      ],
      "metadata": {
        "id": "7MH7jPe5xob-"
      }
    },
    {
      "cell_type": "code",
      "source": [
        "# Récupération et transformation des labels déjà portés\n",
        "# Upload ?\n",
        "\n",
        "from google.colab import files\n",
        "uploaded = files.upload()\n"
      ],
      "metadata": {
        "id": "Q4MKUsY4OSJk"
      },
      "execution_count": null,
      "outputs": []
    },
    {
      "cell_type": "code",
      "source": [
        "import os\n",
        "import tarfile\n",
        "from pathlib import Path\n",
        "import re\n",
        "\n",
        "# Step 1: Detar the file\n",
        "tar_path = 'classification_images.tar'  # replace with your actual tar file\n",
        "extract_path = Path('extracted')\n",
        "with tarfile.open(tar_path, 'r:*') as tar:\n",
        "    tar.extractall(extract_path)\n",
        "\n",
        "# Step 1.1: Find the actual root folder (the one containing subfolders)\n",
        "extracted_items = list(extract_path.iterdir())\n",
        "if len(extracted_items) != 1 or not extracted_items[0].is_dir():\n",
        "    raise RuntimeError(\"Expected exactly one root folder in the tar file.\")\n",
        "true_root = extracted_items[0]\n",
        "\n",
        "# Step 2: Init dict_labels\n",
        "dict_labels = {}\n",
        "\n",
        "# Strict regex: only match S_YYYY-MM-DD_HH_MM_SS.jpg\n",
        "strict_pattern = re.compile(r'^S_(\\d{4})-(\\d{2})-(\\d{2})_(\\d{2})_(\\d{2})_(\\d{2})\\.jpg$')\n",
        "\n",
        "# Step 3: Browse subfolders under the true root\n",
        "for subfolder in true_root.iterdir():\n",
        "    if not subfolder.is_dir():\n",
        "        continue\n",
        "\n",
        "    label = subfolder.name.split('-')[0].split('_')[0]\n",
        "\n",
        "    for item in subfolder.iterdir():\n",
        "        if item.is_file():\n",
        "            fname = item.name\n",
        "            if fname == \"S_2025-04-16_19_00_00.jpg\":\n",
        "                continue  # Explicitly skip this one\n",
        "            if not strict_pattern.match(fname):\n",
        "                continue  # Skip anything that doesn't match the strict pattern\n",
        "\n",
        "            # Reformat: from S_YYYY-MM-DD_HH_MM_SS.jpg to S_YYYYMMDDHHMM.jpg\n",
        "            parts = strict_pattern.match(fname).groups()\n",
        "            new_name = f\"S_{parts[0]}{parts[1]}{parts[2]}{parts[3]}{parts[4]}.jpg\"\n",
        "\n",
        "            if new_name in dict_labels:\n",
        "                print(f\"[DUPLICATE] {new_name} already labeled.\")\n",
        "            dict_labels[new_name] = label\n",
        "\n",
        "        elif item.is_dir():\n",
        "            for subitem in item.iterdir():\n",
        "                if subitem.is_file():\n",
        "                    fname = subitem.name\n",
        "                    if fname == \"S_2025-04-16_19_00_00.jpg\":\n",
        "                        continue\n",
        "                    if not strict_pattern.match(fname):\n",
        "                        continue\n",
        "\n",
        "                    parts = strict_pattern.match(fname).groups()\n",
        "                    new_name = f\"S_{parts[0]}{parts[1]}{parts[2]}{parts[3]}{parts[4]}.jpg\"\n",
        "\n",
        "                    if new_name in dict_labels:\n",
        "                        print(f\"[DUPLICATE] {new_name} already labeled.\")\n",
        "                    dict_labels[new_name] = label\n",
        "\n",
        "                elif subitem.is_dir():\n",
        "                    print(f\"[WARNING] Found subsubsubfolder in: {subitem.relative_to(true_root)}\")\n",
        "\n",
        "print(\"Label dictionary created with\", len(dict_labels), \"entries.\")\n"
      ],
      "metadata": {
        "id": "8_TZsKc7Q8Vq"
      },
      "execution_count": null,
      "outputs": []
    },
    {
      "cell_type": "code",
      "source": [
        "# ✅ Install dependencies (Colab only)\n",
        "!pip install --upgrade gspread gspread_dataframe google-auth\n",
        "\n",
        "# ✅ Imports and auth\n",
        "import gspread\n",
        "from gspread_dataframe import set_with_dataframe\n",
        "import pandas as pd\n",
        "import tarfile\n",
        "from pathlib import Path\n",
        "import re\n",
        "\n",
        "from google.colab import auth\n",
        "auth.authenticate_user()\n",
        "\n",
        "import google.auth\n",
        "creds, _ = google.auth.default()\n",
        "gc = gspread.authorize(creds)"
      ],
      "metadata": {
        "id": "2x-KtWqpUlOJ"
      },
      "execution_count": null,
      "outputs": []
    },
    {
      "cell_type": "code",
      "source": [
        "! ls extracted/\n"
      ],
      "metadata": {
        "id": "AWVK-rohUq3T",
        "outputId": "e0d0dbff-43d9-40f9-ca68-702f6997c84c",
        "colab": {
          "base_uri": "https://localhost:8080/"
        }
      },
      "execution_count": null,
      "outputs": [
        {
          "output_type": "stream",
          "name": "stdout",
          "text": [
            "classification_images\n"
          ]
        }
      ]
    },
    {
      "cell_type": "code",
      "source": [
        "# ✅ Convert to DataFrame\n",
        "df = pd.DataFrame(list(dict_labels.items()), columns=[\"Image\", \"Classe\"])\n",
        "\n",
        "# ✅ Create and fill Google Sheet\n",
        "sheet_title = \"group0_group1_labels\"\n",
        "sh = gc.create(sheet_title)\n",
        "worksheet = sh.sheet1\n",
        "set_with_dataframe(worksheet, df)\n",
        "\n",
        "\n"
      ],
      "metadata": {
        "id": "A3uZ_wkPU1Q2"
      },
      "execution_count": null,
      "outputs": []
    },
    {
      "cell_type": "code",
      "source": [
        "# ✅ Share with eleveenm1@gmail.com to eleveenm12@gmail.com\n",
        "for k in range(1, 13):\n",
        "    email = f\"eleveenm{k}@gmail.com\"\n",
        "    try:\n",
        "        sh.share(email, perm_type='user', role='writer')\n",
        "        print(f\"✅ Shared with {email}\")\n",
        "    except Exception as e:\n",
        "        print(f\"❌ Failed to share with {email}: {e}\")\n"
      ],
      "metadata": {
        "id": "Kmgs878HvJGv"
      },
      "execution_count": null,
      "outputs": []
    },
    {
      "cell_type": "markdown",
      "source": [
        "# B) Création des google sheets"
      ],
      "metadata": {
        "id": "S2iZTuzFzf8u"
      }
    },
    {
      "cell_type": "code",
      "source": [
        "# ✅ Install dependencies (Colab only)\n",
        "!pip install --upgrade gspread gspread_dataframe google-auth\n",
        "\n",
        "# ✅ Imports and auth\n",
        "import gspread\n",
        "from gspread_dataframe import set_with_dataframe\n",
        "import pandas as pd\n",
        "import tarfile\n",
        "from pathlib import Path\n",
        "import re\n",
        "\n",
        "from google.colab import auth\n",
        "auth.authenticate_user()\n",
        "\n",
        "import google.auth\n",
        "creds, _ = google.auth.default()\n",
        "gc = gspread.authorize(creds)"
      ],
      "metadata": {
        "id": "dxsnfGTezuIL",
        "outputId": "0b222659-b78a-4408-f73b-67b92d4713a5",
        "colab": {
          "base_uri": "https://localhost:8080/"
        }
      },
      "execution_count": null,
      "outputs": [
        {
          "output_type": "stream",
          "name": "stdout",
          "text": [
            "Requirement already satisfied: gspread in /usr/local/lib/python3.11/dist-packages (6.2.1)\n",
            "Requirement already satisfied: gspread_dataframe in /usr/local/lib/python3.11/dist-packages (4.0.0)\n",
            "Requirement already satisfied: google-auth in /usr/local/lib/python3.11/dist-packages (2.40.3)\n",
            "Requirement already satisfied: google-auth-oauthlib>=0.4.1 in /usr/local/lib/python3.11/dist-packages (from gspread) (1.2.2)\n",
            "Requirement already satisfied: pandas>=0.24.0 in /usr/local/lib/python3.11/dist-packages (from gspread_dataframe) (2.2.2)\n",
            "Requirement already satisfied: six>=1.12.0 in /usr/local/lib/python3.11/dist-packages (from gspread_dataframe) (1.17.0)\n",
            "Requirement already satisfied: cachetools<6.0,>=2.0.0 in /usr/local/lib/python3.11/dist-packages (from google-auth) (5.5.2)\n",
            "Requirement already satisfied: pyasn1-modules>=0.2.1 in /usr/local/lib/python3.11/dist-packages (from google-auth) (0.4.2)\n",
            "Requirement already satisfied: rsa<5,>=3.1.4 in /usr/local/lib/python3.11/dist-packages (from google-auth) (4.9.1)\n",
            "Requirement already satisfied: requests-oauthlib>=0.7.0 in /usr/local/lib/python3.11/dist-packages (from google-auth-oauthlib>=0.4.1->gspread) (2.0.0)\n",
            "Requirement already satisfied: numpy>=1.23.2 in /usr/local/lib/python3.11/dist-packages (from pandas>=0.24.0->gspread_dataframe) (2.0.2)\n",
            "Requirement already satisfied: python-dateutil>=2.8.2 in /usr/local/lib/python3.11/dist-packages (from pandas>=0.24.0->gspread_dataframe) (2.9.0.post0)\n",
            "Requirement already satisfied: pytz>=2020.1 in /usr/local/lib/python3.11/dist-packages (from pandas>=0.24.0->gspread_dataframe) (2025.2)\n",
            "Requirement already satisfied: tzdata>=2022.7 in /usr/local/lib/python3.11/dist-packages (from pandas>=0.24.0->gspread_dataframe) (2025.2)\n",
            "Requirement already satisfied: pyasn1<0.7.0,>=0.6.1 in /usr/local/lib/python3.11/dist-packages (from pyasn1-modules>=0.2.1->google-auth) (0.6.1)\n",
            "Requirement already satisfied: oauthlib>=3.0.0 in /usr/local/lib/python3.11/dist-packages (from requests-oauthlib>=0.7.0->google-auth-oauthlib>=0.4.1->gspread) (3.2.2)\n",
            "Requirement already satisfied: requests>=2.0.0 in /usr/local/lib/python3.11/dist-packages (from requests-oauthlib>=0.7.0->google-auth-oauthlib>=0.4.1->gspread) (2.32.3)\n",
            "Requirement already satisfied: charset-normalizer<4,>=2 in /usr/local/lib/python3.11/dist-packages (from requests>=2.0.0->requests-oauthlib>=0.7.0->google-auth-oauthlib>=0.4.1->gspread) (3.4.2)\n",
            "Requirement already satisfied: idna<4,>=2.5 in /usr/local/lib/python3.11/dist-packages (from requests>=2.0.0->requests-oauthlib>=0.7.0->google-auth-oauthlib>=0.4.1->gspread) (3.10)\n",
            "Requirement already satisfied: urllib3<3,>=1.21.1 in /usr/local/lib/python3.11/dist-packages (from requests>=2.0.0->requests-oauthlib>=0.7.0->google-auth-oauthlib>=0.4.1->gspread) (2.4.0)\n",
            "Requirement already satisfied: certifi>=2017.4.17 in /usr/local/lib/python3.11/dist-packages (from requests>=2.0.0->requests-oauthlib>=0.7.0->google-auth-oauthlib>=0.4.1->gspread) (2025.4.26)\n"
          ]
        }
      ]
    },
    {
      "cell_type": "code",
      "source": [
        "# ✅ Create and fill Google Sheet\n",
        "\n",
        "\n",
        "\n",
        "for k in range(1, 13):\n",
        "    sheet_title = f\"group{k}\"\n",
        "    sh = gc.create(sheet_title)\n",
        "    print(f\"\\n✅ Sheet created: https://docs.google.com/spreadsheets/d/{sh.id}\")\n",
        "    email = f\"eleveenm{k}@gmail.com\"\n",
        "\n",
        "    try:\n",
        "        sh.share(email, perm_type='user', role='writer')\n",
        "        print(f\"✅ Shared with {email}\")\n",
        "    except Exception as e:\n",
        "        print(f\"❌ Failed to share with {email}: {e}\")"
      ],
      "metadata": {
        "id": "LTyRG7bNzqkM",
        "outputId": "12d8dd7a-3d0f-4c78-ca9f-6bb58d97f3f5",
        "colab": {
          "base_uri": "https://localhost:8080/"
        }
      },
      "execution_count": null,
      "outputs": [
        {
          "output_type": "stream",
          "name": "stdout",
          "text": [
            "\n",
            "✅ Sheet created: https://docs.google.com/spreadsheets/d/1JR3T7l6TrQdxKx1Vyxc-XM8q736PnYyGq5iJ81PUs1Y\n",
            "✅ Shared with eleveenm1@gmail.com\n",
            "\n",
            "✅ Sheet created: https://docs.google.com/spreadsheets/d/1Npi7H-Y-P60QBODOL8Q5ArQHr5dIn9mOuYv67LLHcNE\n",
            "✅ Shared with eleveenm2@gmail.com\n",
            "\n",
            "✅ Sheet created: https://docs.google.com/spreadsheets/d/1I_ZwJrPt1AO_tQJSX2JBreFFhAlsF7kITH9p_1gDhks\n",
            "✅ Shared with eleveenm3@gmail.com\n",
            "\n",
            "✅ Sheet created: https://docs.google.com/spreadsheets/d/1e1LnjbLKoZ_JxYfGLu1nFIQWyioNt4AV_Y9C1CUqiWI\n",
            "✅ Shared with eleveenm4@gmail.com\n",
            "\n",
            "✅ Sheet created: https://docs.google.com/spreadsheets/d/1unaaeXdGVdC_1JMMVSBUgxc6vdrJzE16lTiP6OBEl04\n",
            "✅ Shared with eleveenm5@gmail.com\n",
            "\n",
            "✅ Sheet created: https://docs.google.com/spreadsheets/d/1odXOBEiNbFQ48NALzTEmCs7LDlBHWARdsivL8rO47fw\n",
            "✅ Shared with eleveenm6@gmail.com\n",
            "\n",
            "✅ Sheet created: https://docs.google.com/spreadsheets/d/1v7gJmdK1AqMelBRaksIcrIN_mDjobH8wxMxfLbiKlS8\n",
            "✅ Shared with eleveenm7@gmail.com\n",
            "\n",
            "✅ Sheet created: https://docs.google.com/spreadsheets/d/1chlVgydwqpQYq44ynEWX_I0QVtWsUaYfwqVSptTD-dA\n",
            "✅ Shared with eleveenm8@gmail.com\n",
            "\n",
            "✅ Sheet created: https://docs.google.com/spreadsheets/d/1x295asse_gh31-EzXQYFUSIkpbLe-hvYwWAxyr1c_ag\n",
            "✅ Shared with eleveenm9@gmail.com\n",
            "\n",
            "✅ Sheet created: https://docs.google.com/spreadsheets/d/1QKZuVjBd1SOmAZvg1zA4vnzLnh8DXVzDouwA941WB2I\n",
            "✅ Shared with eleveenm10@gmail.com\n",
            "\n",
            "✅ Sheet created: https://docs.google.com/spreadsheets/d/1oNurDfrYvCr0hnawUz432Dyh8Mkunk820GiDoa1Sz_E\n",
            "✅ Shared with eleveenm11@gmail.com\n",
            "\n",
            "✅ Sheet created: https://docs.google.com/spreadsheets/d/1EgmnmcX8jMXZmz6s_-oW473FnuT3HgPjlSnqCcJTrP4\n",
            "✅ Shared with eleveenm12@gmail.com\n"
          ]
        }
      ]
    },
    {
      "cell_type": "code",
      "source": [
        "group2sheets = {0: 'https://docs.google.com/spreadsheets/d/1sjvrkLMEY0YXAyXU9Ad8i49J29jCmKkJb85T2pZ2CS8',\n",
        "                1: 'https://docs.google.com/spreadsheets/d/1sjvrkLMEY0YXAyXU9Ad8i49J29jCmKkJb85T2pZ2CS8',\n",
        "                2: 'https://docs.google.com/spreadsheets/d/1Npi7H-Y-P60QBODOL8Q5ArQHr5dIn9mOuYv67LLHcNE',\n",
        "                3: 'https://docs.google.com/spreadsheets/d/1I_ZwJrPt1AO_tQJSX2JBreFFhAlsF7kITH9p_1gDhks',\n",
        "                4: 'https://docs.google.com/spreadsheets/d/1e1LnjbLKoZ_JxYfGLu1nFIQWyioNt4AV_Y9C1CUqiWI',\n",
        "                5: 'https://docs.google.com/spreadsheets/d/1unaaeXdGVdC_1JMMVSBUgxc6vdrJzE16lTiP6OBEl04',\n",
        "                6: 'https://docs.google.com/spreadsheets/d/1odXOBEiNbFQ48NALzTEmCs7LDlBHWARdsivL8rO47fw',\n",
        "                7: 'https://docs.google.com/spreadsheets/d/1v7gJmdK1AqMelBRaksIcrIN_mDjobH8wxMxfLbiKlS8',\n",
        "                8: 'https://docs.google.com/spreadsheets/d/1chlVgydwqpQYq44ynEWX_I0QVtWsUaYfwqVSptTD-dA',\n",
        "                9: 'https://docs.google.com/spreadsheets/d/1x295asse_gh31-EzXQYFUSIkpbLe-hvYwWAxyr1c_ag',\n",
        "                10: 'https://docs.google.com/spreadsheets/d/1QKZuVjBd1SOmAZvg1zA4vnzLnh8DXVzDouwA941WB2I',\n",
        "                11: 'https://docs.google.com/spreadsheets/d/1oNurDfrYvCr0hnawUz432Dyh8Mkunk820GiDoa1Sz_E',\n",
        "                12: 'https://docs.google.com/spreadsheets/d/1EgmnmcX8jMXZmz6s_-oW473FnuT3HgPjlSnqCcJTrP4',\n",
        "                13 : 'https://docs.google.com/spreadsheets/d/1KT4RXpX3FkR2APlGXhD54euEpPWHbFZKrxoWdFzeqog'}"
      ],
      "metadata": {
        "id": "lcJgSP_K2zc9"
      },
      "execution_count": null,
      "outputs": []
    }
  ]
}