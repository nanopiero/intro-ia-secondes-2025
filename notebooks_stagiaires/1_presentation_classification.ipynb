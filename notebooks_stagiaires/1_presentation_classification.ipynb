{
  "nbformat": 4,
  "nbformat_minor": 0,
  "metadata": {
    "colab": {
      "provenance": []
    },
    "kernelspec": {
      "name": "python3",
      "display_name": "Python 3"
    },
    "language_info": {
      "name": "python"
    }
  },
  "cells": [
    {
      "cell_type": "markdown",
      "source": [
        "# Une classification simplifiée"
      ],
      "metadata": {
        "id": "ZrZ91drOyT7M"
      }
    },
    {
      "cell_type": "markdown",
      "source": [
        "Pendant ce stage, nous allons commencer par annoter des images prises par des caméras fixées sur le toit de l’école.\n",
        "\n",
        "En lançant le notebook `annotation_images`, vous verrez apparaître une image à annoter après avoir cliqué sur un bouton. Vous pouvez naviguer entre les images à l’aide des flèches gauche et droite 🖱️.\n",
        "\n",
        "Une annotation 📝 consiste en un petit texte décrivant la couverture nuageuse visible sur l’image.\n",
        "\n",
        "Par exemple :\n",
        "\n",
        "- `c1` signifie que le ciel est **sans nuages**.\n",
        "\n",
        "- `c20 h750 n5` signifie que le ciel est couvert de cumulus fractus ou cumulus humilis, situés à environ 750 mètres d'altitude, et couvrant environ 5/8 du ciel.\n",
        "\n",
        "Pour déterminer la classe de nuage (le chiffre après le `c`, pour \"classe\"), vous vous aiderez de la fiche suivante :\n"
      ],
      "metadata": {
        "id": "3t-Z86SGeUVb"
      }
    },
    {
      "cell_type": "markdown",
      "source": [
        "📌 [Lien vers le schéma interactif :](https://nanopiero.github.io/intro-ia-secondes-2025/utils/recap_classif.svg)\n",
        "\n",
        "<img src=\"https://raw.githubusercontent.com/nanopiero/intro-ia-secondes-2025/main/utils/recap_classif.svg\" width=\"400\">\n",
        "\n",
        "<sub>Crédits:  <a href=\"https://public.wmo.int/\" target=\"_blank\">OMM</a></sub>\n"
      ],
      "metadata": {
        "id": "7bDhC2mG3yLe"
      }
    },
    {
      "cell_type": "markdown",
      "source": [
        "### 📌 Rappels utiles pour l’annotation\n",
        "\n",
        "🔍 Notez que :\n",
        "\n",
        "- en cliquant sur ce **schéma interactif**, vous pouvez accéder aux **définitions officielles des classes** en cliquant sur les **rectangles de couleur** ;\n",
        "- vous pourrez visualiser les images prises par d'autres caméras **au même moment** pour vous aider à choisir la classe, mais le code ne doit caractériser **que les nuages visibles sur l'image à annoter**, celle qui est **encadrée en vert** ;\n",
        "- vous pourrez toujours **botter en touche** si l'image est trop difficile à interpréter (`c0`) ;\n",
        "- nous laisserons de côté les images où les nuages sont **lointains ou ne couvrent qu'un bord** de l'image (`c3`), **sauf** dans le cas important où des **Cumulonimbus** sont visibles (`c2`). La classe `c2` est d'ailleurs **prioritaire sur toutes les autres** ;\n",
        "- dans le cas où plusieurs classes de nuages sont présentes **sans qu’aucune ne domine clairement**, vous passerez le code `c90` (\"*mélange*\") ;\n",
        "- un **tableau de mesures par télémètre**, prises autour de la date de prise de vue dans deux stations différentes — l'une située au sud (**Francazal**), l'autre au nord (**Blagnac**) — vous aidera à estimer la **hauteur du plafond** (`h`) ;\n",
        "- l’**image satellite** acquise au plus près de la date de prise de vue est disponible. Elle vous aidera notamment à trancher sur la présence de **Cumulonimbus**.  \n",
        "  La **croix rouge au nord** marque l’emplacement de **Toulouse**, celle au sud est à environ **100 km plus bas, dans les Pyrénées**.\n",
        "\n",
        "\n"
      ],
      "metadata": {
        "id": "ioYTgV7Og34J"
      }
    }
  ]
}