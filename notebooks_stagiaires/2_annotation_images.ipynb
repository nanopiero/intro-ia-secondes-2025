{
  "nbformat": 4,
  "nbformat_minor": 0,
  "metadata": {
    "colab": {
      "provenance": []
    },
    "kernelspec": {
      "name": "python3",
      "display_name": "Python 3"
    },
    "language_info": {
      "name": "python"
    }
  },
  "cells": [
    {
      "cell_type": "markdown",
      "source": [
        "D'abord : se logguer à un compte gmail \\\n",
        "login : eleveenmi@gmail.com  (i=1,2,3,..) \\\n",
        "mwd : pwdeleveEnmi (i=1,2,3,..)"
      ],
      "metadata": {
        "id": "x4drUtTF40aM"
      }
    },
    {
      "cell_type": "markdown",
      "source": [
        "# I) Installations et imports"
      ],
      "metadata": {
        "id": "DvkSOtpFO5vm"
      }
    },
    {
      "cell_type": "code",
      "source": [
        "# LAncer cette cellule pour construire l'environnement ad hoc\n",
        "!pip install --upgrade gspread gspread_dataframe\n",
        "from google.colab import auth\n",
        "from google.auth import default\n",
        "import gspread\n",
        "from google.colab import drive\n",
        "from google.colab import output\n",
        "import os\n",
        "import re\n",
        "import glob\n",
        "import shutil\n",
        "import tarfile\n",
        "from pathlib import Path\n",
        "import random\n",
        "from IPython.display import display, clear_output, Javascript\n",
        "import ipywidgets as widgets\n",
        "from base64 import b64encode\n",
        "from datetime import datetime, timedelta\n",
        "import pandas as pd\n",
        "from gspread_dataframe import get_as_dataframe, set_with_dataframe\n",
        "import re\n",
        "\n",
        "# Spécifique au TP :\n",
        "! git clone https://github.com/nanopiero/intro-ia-secondes-2025.git\n",
        "! cp intro-ia-secondes-2025/utils/annotation.py .\n",
        "! cp intro-ia-secondes-2025/utils/configuration.py .\n",
        "# from google.colab import files\n",
        "# uploaded = files.upload()\n",
        "from importlib import reload\n",
        "import configuration as cf\n",
        "import annotation as an\n",
        "# reload(cf)\n",
        "# reload(an)"
      ],
      "metadata": {
        "id": "tJo-yDQsJyrk"
      },
      "execution_count": null,
      "outputs": []
    },
    {
      "cell_type": "markdown",
      "source": [
        "# II) Authentification"
      ],
      "metadata": {
        "id": "ngJOgPdrPC8Q"
      }
    },
    {
      "cell_type": "code",
      "source": [
        "# pour colab :\n",
        "auth.authenticate_user()\n",
        "# pour accéder aux fichiers google (google sheet)\n",
        "creds, _ = default()  # or use service account\n",
        "gc = gspread.authorize(creds)\n",
        "\n",
        "# montage du drive :\n",
        "drive.mount('/content/drive')"
      ],
      "metadata": {
        "id": "Z6QHIJjpQwYh"
      },
      "execution_count": null,
      "outputs": []
    },
    {
      "cell_type": "markdown",
      "source": [
        "# III) Configuration"
      ],
      "metadata": {
        "id": "GgVAnYGo-bik"
      }
    },
    {
      "cell_type": "code",
      "source": [
        "# Commencez par groupe 1 / mode tutoriel.\n",
        "# Choisissez votre numéro de groupe et le mode 'expert' quand vous vous sentez prêts !\n",
        "groupe = 1\n",
        "mode = 'tutoriel'\n",
        "direction, starthour = cf.group2direction_and_starthour[groupe]\n",
        "image_dir = f'{groupe}_{direction}_{starthour}'\n",
        "print(image_dir)"
      ],
      "metadata": {
        "id": "9tUFo2na9uxd",
        "outputId": "98562983-cd67-490b-fc8b-5294c420fa1d",
        "colab": {
          "base_uri": "https://localhost:8080/"
        }
      },
      "execution_count": 11,
      "outputs": [
        {
          "output_type": "stream",
          "name": "stdout",
          "text": [
            "6_S_09H40\n"
          ]
        }
      ]
    },
    {
      "cell_type": "markdown",
      "source": [
        "# IV) Récupération des images :"
      ],
      "metadata": {
        "id": "Sw-CN1lqPL7W"
      }
    },
    {
      "cell_type": "code",
      "source": [
        "# 1. Define the source path (change SHARED_PATH accordingly)\n",
        "tar_and_zipped_image_dir = image_dir + '.tar.gz'\n",
        "shared_path = '/content/drive/MyDrive/stage_secondes_2025/' + tar_and_zipped_image_dir\n",
        "dest_path = Path.home() / tar_and_zipped_image_dir\n",
        "\n",
        "# Copy the file to your home directory\n",
        "shutil.copy(shared_path, dest_path)\n",
        "\n",
        "# 2. Extract and delete the archive\n",
        "with tarfile.open(dest_path, 'r:gz') as tar:\n",
        "    tar.extractall(path='.')  # extract to current working directory\n",
        "\n",
        "# 3. Remove the tar.gz file\n",
        "dest_path.unlink()"
      ],
      "metadata": {
        "id": "hSthxBV0Q9NU"
      },
      "execution_count": 9,
      "outputs": []
    },
    {
      "cell_type": "markdown",
      "source": [
        "# V) Récupération du fichier google (et des labels qu'il peut contenir)"
      ],
      "metadata": {
        "id": "eQ6hjTLlQMR1"
      }
    },
    {
      "cell_type": "code",
      "source": [
        "# Open by ID or URL\n",
        "sheet_url = cf.group2sheets[groupe]\n",
        "sh = gc.open_by_url(sheet_url)\n",
        "worksheet = sh.sheet1\n",
        "print(worksheet.url)"
      ],
      "metadata": {
        "id": "Ysarx7mWRyha"
      },
      "execution_count": null,
      "outputs": []
    },
    {
      "cell_type": "markdown",
      "source": [
        "# VI) Annotation"
      ],
      "metadata": {
        "id": "NfKAfxxtRDHV"
      }
    },
    {
      "cell_type": "code",
      "source": [
        "ui = an.AnnotationUI(image_dir, worksheet, direction, mode)"
      ],
      "metadata": {
        "id": "tbvRT8JyDan3"
      },
      "execution_count": null,
      "outputs": []
    }
  ]
}