{
  "nbformat": 4,
  "nbformat_minor": 0,
  "metadata": {
    "colab": {
      "provenance": []
    },
    "kernelspec": {
      "name": "python3",
      "display_name": "Python 3"
    },
    "language_info": {
      "name": "python"
    }
  },
  "cells": [
    {
      "cell_type": "markdown",
      "source": [
        "# Une classification simplifiée"
      ],
      "metadata": {
        "id": "ZrZ91drOyT7M"
      }
    },
    {
      "cell_type": "markdown",
      "source": [
        "📌 [Voir le schéma interactif :](https://nanopiero.github.io/intro-ia-secondes-2025/utils/recap_classif.svg)\\\n",
        "\n",
        "<img src=\"https://raw.githubusercontent.com/nanopiero/intro-ia-secondes-2025/main/utils/recap_classif.svg\" width=\"400\">\n",
        "\n",
        "<sub>Credits: part of the diagram based on materials from the <a href=\"https://public.wmo.int/\" target=\"_blank\">World Meteorological Organization</a></sub>\n"
      ],
      "metadata": {
        "id": "7bDhC2mG3yLe"
      }
    }
  ]
}