{
  "nbformat": 4,
  "nbformat_minor": 0,
  "metadata": {
    "colab": {
      "provenance": []
    },
    "kernelspec": {
      "name": "python3",
      "display_name": "Python 3"
    },
    "language_info": {
      "name": "python"
    }
  },
  "cells": [
    {
      "cell_type": "markdown",
      "source": [
        "D'abord : se logguer à un compte gmail \\\n",
        "login : eleveenmi@gmail.com  (i=1,2,3,..) \\\n",
        "mwd : pwdeleveEnmi (i=1,2,3,..)"
      ],
      "metadata": {
        "id": "x4drUtTF40aM"
      }
    },
    {
      "cell_type": "markdown",
      "source": [
        "# Une classification simplifiée"
      ],
      "metadata": {
        "id": "ZrZ91drOyT7M"
      }
    },
    {
      "cell_type": "markdown",
      "source": [
        "📌 [Voir le schéma interactif :](https://nanopiero.github.io/intro-ia-secondes-2025/utils/recap_classif.svg)\\\n",
        "\n",
        "<img src=\"https://raw.githubusercontent.com/nanopiero/intro-ia-secondes-2025/main/utils/recap_classif.svg\" width=\"400\">\n",
        "\n",
        "<sub>Credits: part of the diagram based on materials from the <a href=\"https://public.wmo.int/\" target=\"_blank\">World Meteorological Organization</a></sub>\n"
      ],
      "metadata": {
        "id": "7bDhC2mG3yLe"
      }
    },
    {
      "cell_type": "code",
      "source": [],
      "metadata": {
        "id": "Zho-aqWm3nCR",
        "outputId": "785e439e-42a1-4e27-ed34-67b14e3e0e27",
        "colab": {
          "base_uri": "https://localhost:8080/",
          "height": 106
        }
      },
      "execution_count": 1,
      "outputs": [
        {
          "output_type": "error",
          "ename": "SyntaxError",
          "evalue": "invalid syntax (<ipython-input-1-1528837088>, line 1)",
          "traceback": [
            "\u001b[0;36m  File \u001b[0;32m\"<ipython-input-1-1528837088>\"\u001b[0;36m, line \u001b[0;32m1\u001b[0m\n\u001b[0;31m    <img src=\"https://raw.githubusercontent.com/nanopiero/intro-ia-secondes-2025/main/utils/recap_classif.svg\" width=\"600\">\u001b[0m\n\u001b[0m    ^\u001b[0m\n\u001b[0;31mSyntaxError\u001b[0m\u001b[0;31m:\u001b[0m invalid syntax\n"
          ]
        }
      ]
    }
  ]
}